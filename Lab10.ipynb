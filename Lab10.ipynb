{
 "cells": [
  {
   "cell_type": "code",
   "execution_count": 5,
   "id": "6346c05e",
   "metadata": {},
   "outputs": [
    {
     "name": "stdout",
     "output_type": "stream",
     "text": [
      "Roses are: { Red }\n",
      "Violet are:  White\n",
      "sjfvskb\n"
     ]
    }
   ],
   "source": [
    "class Flower:\n",
    "    color = 'unknown'\n",
    "\n",
    "rose = Flower()\n",
    "rose.color = 'Red'\n",
    "\n",
    "violet = Flower()\n",
    "violet.color = 'White'\n",
    "\n",
    "this_pun_is_for_you = 'sjfvskb'\n",
    "\n",
    "print('Roses are: {',rose.color,'}')\n",
    "print('Violet are: ',violet.color)\n",
    "print(this_pun_is_for_you)"
   ]
  },
  {
   "cell_type": "code",
   "execution_count": 4,
   "id": "0bc46c5b",
   "metadata": {},
   "outputs": [
    {
     "name": "stdout",
     "output_type": "stream",
     "text": [
      "Meow I'm skjfbvks! Meow\n",
      "<__main__.cat object at 0x00000284D9E1D0D0>\n",
      "Meow I'm qwer12345678tyui! Meow\n"
     ]
    }
   ],
   "source": [
    "class cat:\n",
    "    name = \"\"\n",
    "    def speak(self):\n",
    "        print('Meow I\\'m {}! Meow'.format(self.name))\n",
    "    def __str__(self):\n",
    "        return \"Tanveer Bhai\"\n",
    "        \n",
    "        \n",
    "myCat = cat()\n",
    "myCat.name = 'skjfbvks'\n",
    "myCat.speak()\n",
    "print(myCat)\n",
    "\n",
    "myCat1 = cat()\n",
    "myCat1.name = 'qwer12345678tyui'\n",
    "myCat1.speak()"
   ]
  },
  {
   "cell_type": "code",
   "execution_count": null,
   "id": "cb2e1516",
   "metadata": {},
   "outputs": [],
   "source": []
  },
  {
   "cell_type": "code",
   "execution_count": 26,
   "id": "c4426818",
   "metadata": {},
   "outputs": [
    {
     "name": "stdout",
     "output_type": "stream",
     "text": [
      "The Color of Apple:  Yellow  and falvor is:  Sweet\n"
     ]
    }
   ],
   "source": [
    "class Apples:\n",
    "    def __init__(self,color,flavor):\n",
    "        self.color = color\n",
    "        self.flavor = flavor\n",
    "    def appPrint(self):\n",
    "        print(\"The Color of Apple: \",self.color,\" and falvor is: \",self.flavor)\n",
    "app1 = Apples(\"Yellow\",\"Sweet\")\n",
    "app1.appPrint()"
   ]
  },
  {
   "cell_type": "code",
   "execution_count": 39,
   "id": "3802693c",
   "metadata": {},
   "outputs": [
    {
     "ename": "TypeError",
     "evalue": "fruit.__init__() takes 2 positional arguments but 3 were given",
     "output_type": "error",
     "traceback": [
      "\u001b[1;31m---------------------------------------------------------------------------\u001b[0m",
      "\u001b[1;31mTypeError\u001b[0m                                 Traceback (most recent call last)",
      "Cell \u001b[1;32mIn[39], line 8\u001b[0m\n\u001b[0;32m      6\u001b[0m         \u001b[38;5;28msuper\u001b[39m()\u001b[38;5;241m.\u001b[39m\u001b[38;5;21m__init__\u001b[39m(name)\n\u001b[0;32m      7\u001b[0m         \u001b[38;5;28mself\u001b[39m\u001b[38;5;241m.\u001b[39mtaste \u001b[38;5;241m=\u001b[39m taste\n\u001b[1;32m----> 8\u001b[0m apple1 \u001b[38;5;241m=\u001b[39m Apple(\u001b[38;5;124m\"\u001b[39m\u001b[38;5;124mBlack\u001b[39m\u001b[38;5;124m\"\u001b[39m, \u001b[38;5;124m\"\u001b[39m\u001b[38;5;124msfgkl\u001b[39m\u001b[38;5;124m\"\u001b[39m)\n\u001b[0;32m      9\u001b[0m \u001b[38;5;28mprint\u001b[39m(apple1\u001b[38;5;241m.\u001b[39mname)\n\u001b[0;32m     10\u001b[0m \u001b[38;5;28mprint\u001b[39m(apple1\u001b[38;5;241m.\u001b[39mtaste)\n",
      "\u001b[1;31mTypeError\u001b[0m: fruit.__init__() takes 2 positional arguments but 3 were given"
     ]
    }
   ],
   "source": [
    "class fruit:\n",
    "    def __init__(self, name):\n",
    "        self.name = name\n",
    "class Apple(fruit):\n",
    "    def ___init__(self, name, taste):\n",
    "        super().__init__(name)\n",
    "        self.taste = taste\n",
    "apple1 = Apple(\"Black\", \"sfgkl\")\n",
    "print(apple1.name)\n",
    "print(apple1.taste)"
   ]
  },
  {
   "cell_type": "code",
   "execution_count": 38,
   "id": "e1853ebc",
   "metadata": {},
   "outputs": [
    {
     "name": "stdout",
     "output_type": "stream",
     "text": [
      "Base Data\n",
      "Sub Data\n"
     ]
    }
   ],
   "source": [
    "class fruit:\n",
    "    def __init__(self, name):\n",
    "        self.name = name\n",
    "class Apple(fruit):\n",
    "    def __init__(self, name, taste):\n",
    "        super().__init__(name)\n",
    "        self.taste = taste\n",
    "apple1 = Apple(\"Base Data\", \"Sub Data\")\n",
    "print(apple1.name)\n",
    "print(apple1.taste)\n"
   ]
  }
 ],
 "metadata": {
  "kernelspec": {
   "display_name": "Python 3 (ipykernel)",
   "language": "python",
   "name": "python3"
  },
  "language_info": {
   "codemirror_mode": {
    "name": "ipython",
    "version": 3
   },
   "file_extension": ".py",
   "mimetype": "text/x-python",
   "name": "python",
   "nbconvert_exporter": "python",
   "pygments_lexer": "ipython3",
   "version": "3.11.4"
  }
 },
 "nbformat": 4,
 "nbformat_minor": 5
}
