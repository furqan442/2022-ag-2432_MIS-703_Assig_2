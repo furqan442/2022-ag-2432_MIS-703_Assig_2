{
 "cells": [
  {
   "cell_type": "code",
   "execution_count": 6,
   "id": "8b46f9e0",
   "metadata": {},
   "outputs": [
    {
     "name": "stdout",
     "output_type": "stream",
     "text": [
      "<_io.TextIOWrapper name='D:/Uni/MSCS 3/AI/myfile.txt' mode='r' encoding='cp1252'>\n",
      "sdjfb skjf lsjlrfj skrf \n",
      "\n",
      "\n",
      "\n",
      "ds sfosjnvs jsefiskjd sjdvos\n",
      "\n",
      "ds ksjrgj nsorfl nosjrf\n"
     ]
    }
   ],
   "source": [
    "file = open('D:/Uni/MSCS 3/AI/myfile.txt','r')\n",
    "print(file);\n",
    "\n",
    "for tt in file:\n",
    "    print(tt);\n"
   ]
  },
  {
   "cell_type": "code",
   "execution_count": 7,
   "id": "00fbcb4e",
   "metadata": {},
   "outputs": [
    {
     "name": "stdout",
     "output_type": "stream",
     "text": [
      "4\n"
     ]
    }
   ],
   "source": [
    "file = open('D:/Uni\\MSCS 3/AI/myfile.txt','r')\n",
    "\n",
    "count=0;\n",
    "for line in file:\n",
    "    count = count + 1;\n",
    "print(count);\n"
   ]
  },
  {
   "cell_type": "code",
   "execution_count": 9,
   "id": "49a7f78e",
   "metadata": {},
   "outputs": [
    {
     "name": "stdout",
     "output_type": "stream",
     "text": [
      "78\n"
     ]
    }
   ],
   "source": [
    "file = open('D:/Uni\\MSCS 3/AI/myfile.txt','r')\n",
    "\n",
    "inp = file.read();\n",
    "print(len(inp));\n"
   ]
  },
  {
   "cell_type": "code",
   "execution_count": 10,
   "id": "72540f34",
   "metadata": {},
   "outputs": [
    {
     "name": "stdout",
     "output_type": "stream",
     "text": [
      "ds sfosjnvs jsefiskjd sjdvos\n",
      "ds sfosjnvs jsefiskjd sjdvos\n",
      "ds ksjrgj nsorfl nosjrf\n"
     ]
    }
   ],
   "source": [
    "file = open('D:/Uni\\MSCS 3/AI/myfile.txt','r')\n",
    "\n",
    "for line in file:\n",
    "    line = line.rstrip();\n",
    "    if line.startswith(\"ds\"):\n",
    "        print(line);\n",
    "    if not 'sfosjnvs' in line:\n",
    "        continue\n",
    "    print(line);\n"
   ]
  }
 ],
 "metadata": {
  "kernelspec": {
   "display_name": "Python 3 (ipykernel)",
   "language": "python",
   "name": "python3"
  },
  "language_info": {
   "codemirror_mode": {
    "name": "ipython",
    "version": 3
   },
   "file_extension": ".py",
   "mimetype": "text/x-python",
   "name": "python",
   "nbconvert_exporter": "python",
   "pygments_lexer": "ipython3",
   "version": "3.11.4"
  }
 },
 "nbformat": 4,
 "nbformat_minor": 5
}
