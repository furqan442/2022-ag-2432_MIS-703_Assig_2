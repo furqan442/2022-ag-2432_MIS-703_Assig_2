{
 "cells": [
  {
   "cell_type": "code",
   "execution_count": 1,
   "id": "e0945900",
   "metadata": {},
   "outputs": [
    {
     "name": "stdout",
     "output_type": "stream",
     "text": [
      "Hello\n",
      "Fun\n",
      "Zip\n",
      "Hello\n",
      "Fun\n"
     ]
    }
   ],
   "source": [
    "def thing():\n",
    "    print('Hello')\n",
    "    print('Fun')\n",
    "thing()\n",
    "print('Zip')\n",
    "thing()"
   ]
  },
  {
   "cell_type": "code",
   "execution_count": 2,
   "id": "4f9f73a0",
   "metadata": {},
   "outputs": [
    {
     "name": "stdout",
     "output_type": "stream",
     "text": [
      "w\n"
     ]
    }
   ],
   "source": [
    " big = max('Hello world')\n",
    "print(big)"
   ]
  },
  {
   "cell_type": "code",
   "execution_count": 3,
   "id": "ba874afb",
   "metadata": {},
   "outputs": [
    {
     "name": "stdout",
     "output_type": "stream",
     "text": [
      "Hello\n",
      "Yo\n",
      "7\n"
     ]
    }
   ],
   "source": [
    "x = 5\n",
    "print('Hello')\n",
    "\n",
    "def print_lyrics():\n",
    "    print(\"I'm a lumberjack, and I'm okay.\")\n",
    "    print('I sleep all night and I work all day.')\n",
    "\n",
    "print('Yo')\n",
    "x = x + 2\n",
    "print(x)"
   ]
  },
  {
   "cell_type": "code",
   "execution_count": 4,
   "id": "021ddb69",
   "metadata": {},
   "outputs": [
    {
     "name": "stdout",
     "output_type": "stream",
     "text": [
      "8\n"
     ]
    }
   ],
   "source": [
    "def addtwo(a, b):\n",
    "    added = a + b\n",
    "    return added\n",
    "\n",
    "x = addtwo(3, 5)\n",
    "print(x)"
   ]
  }
 ],
 "metadata": {
  "kernelspec": {
   "display_name": "Python 3 (ipykernel)",
   "language": "python",
   "name": "python3"
  },
  "language_info": {
   "codemirror_mode": {
    "name": "ipython",
    "version": 3
   },
   "file_extension": ".py",
   "mimetype": "text/x-python",
   "name": "python",
   "nbconvert_exporter": "python",
   "pygments_lexer": "ipython3",
   "version": "3.11.4"
  }
 },
 "nbformat": 4,
 "nbformat_minor": 5
}
